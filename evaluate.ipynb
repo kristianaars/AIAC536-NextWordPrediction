{
 "cells": [
  {
   "cell_type": "code",
   "execution_count": null,
   "id": "a91218699fe41fb5",
   "metadata": {
    "collapsed": false,
    "is_executing": true,
    "jupyter": {
     "outputs_hidden": false
    }
   },
   "outputs": [],
   "source": [
    "from NextWordPredictor import NextWordPredictor\n",
    "import os\n",
    "\n",
    "tokenizer = ''\n",
    "root_dir = ''\n",
    "model_file_name = 'model.h5'\n",
    "\n",
    "models = {}\n",
    "\n",
    "for file in os.listdir(root_dir):\n",
    "    is_folder = '.' not in file\n",
    "    if is_folder:\n",
    "        models[file] = root_dir + file + '/' + model_file_name"
   ]
  },
  {
   "cell_type": "code",
   "execution_count": null,
   "id": "initial_id",
   "metadata": {
    "collapsed": true,
    "jupyter": {
     "outputs_hidden": true
    }
   },
   "outputs": [],
   "source": [
    "from NextWordPredictor import NextWordPredictor\n",
    "import os\n",
    "\n",
    "def eval_model(model, tokenizer, seed_texts, generate_n_words=5):\n",
    "    generated_text = []\n",
    "    \n",
    "    next_word_predictor = NextWordPredictor(model, tokenizer)\n",
    "\n",
    "    for seed in seed_texts:\n",
    "        sentence = seed\n",
    "        for _ in range(0, generate_n_words):\n",
    "            suggestion = next_word_predictor.predict(sentence, 1)[0]\n",
    "            sentence = sentence + ' ' + suggestion\n",
    "        generated_text.append(sentence)\n",
    "    return generated_text\n",
    "\n"
   ]
  },
  {
   "cell_type": "code",
   "execution_count": null,
   "id": "11e4f96c07745cab",
   "metadata": {
    "collapsed": false,
    "jupyter": {
     "outputs_hidden": false
    }
   },
   "outputs": [],
   "source": [
    "import pandas as pd\n",
    "\n",
    "seed_texts = [\"How do i\",\n",
    "              \"You must learn\",\n",
    "              \"It shows\",\n",
    "              \"Will they go\",\n",
    "              \"After the change\",\n",
    "              \"This change will result\",\n",
    "              \"Hello, how\",\n",
    "              \"Tea is better than\"]\n",
    "\n",
    "\n",
    "results = {}\n",
    "\n",
    "for model in models:\n",
    "    model_name = model\n",
    "    model_path = models[model_name]\n",
    "    res = eval_model(model_path, tokenizer, seed_texts, 5)\n",
    "    results[model_name] = res\n",
    "    \n",
    "results = pd.DataFrame(results)"
   ]
  },
  {
   "cell_type": "code",
   "execution_count": null,
   "id": "2c0109703c720f39",
   "metadata": {
    "collapsed": false,
    "jupyter": {
     "outputs_hidden": false
    }
   },
   "outputs": [],
   "source": [
    "import pandas as pd\n",
    "\n",
    "pd.DataFrame(results)"
   ]
  },
  {
   "cell_type": "code",
   "execution_count": null,
   "id": "dc923a93839dd9a8",
   "metadata": {
    "collapsed": false,
    "jupyter": {
     "outputs_hidden": false
    }
   },
   "outputs": [],
   "source": []
  }
 ],
 "metadata": {
  "kernelspec": {
   "display_name": "Python 3 (ipykernel)",
   "language": "python",
   "name": "python3"
  },
  "language_info": {
   "codemirror_mode": {
    "name": "ipython",
    "version": 3
   },
   "file_extension": ".py",
   "mimetype": "text/x-python",
   "name": "python",
   "nbconvert_exporter": "python",
   "pygments_lexer": "ipython3",
   "version": "3.11.6"
  }
 },
 "nbformat": 4,
 "nbformat_minor": 5
}
